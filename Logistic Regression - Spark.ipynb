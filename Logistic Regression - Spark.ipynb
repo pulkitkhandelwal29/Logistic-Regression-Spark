{
 "cells": [
  {
   "cell_type": "markdown",
   "id": "fcbbb7d0",
   "metadata": {},
   "source": [
    "# Titanic Project"
   ]
  },
  {
   "cell_type": "markdown",
   "id": "3e29c901",
   "metadata": {},
   "source": [
    "### Initializing Spark"
   ]
  },
  {
   "cell_type": "code",
   "execution_count": 1,
   "id": "b8ef4833",
   "metadata": {},
   "outputs": [],
   "source": [
    "import findspark\n",
    "findspark.init('/home/ubuntu/spark-3.1.1-bin-hadoop3.2')"
   ]
  },
  {
   "cell_type": "code",
   "execution_count": 2,
   "id": "caf5f66a",
   "metadata": {},
   "outputs": [],
   "source": [
    "from pyspark.sql import SparkSession"
   ]
  },
  {
   "cell_type": "code",
   "execution_count": 3,
   "id": "4bc05d53",
   "metadata": {},
   "outputs": [],
   "source": [
    "#Initializing Spark Session\n",
    "spark = SparkSession.builder.appName('lr').getOrCreate()"
   ]
  },
  {
   "cell_type": "markdown",
   "id": "80bc7b51",
   "metadata": {},
   "source": [
    "### Importing data"
   ]
  },
  {
   "cell_type": "code",
   "execution_count": 4,
   "id": "e3b235c9",
   "metadata": {},
   "outputs": [],
   "source": [
    "data = spark.read.csv('titanic.csv',inferSchema=True,header=True)"
   ]
  },
  {
   "cell_type": "code",
   "execution_count": 5,
   "id": "e3be7599",
   "metadata": {},
   "outputs": [
    {
     "name": "stdout",
     "output_type": "stream",
     "text": [
      "+-----------+--------+------+--------------------+------+----+-----+-----+----------------+-------+-----+--------+\n",
      "|PassengerId|Survived|Pclass|                Name|   Sex| Age|SibSp|Parch|          Ticket|   Fare|Cabin|Embarked|\n",
      "+-----------+--------+------+--------------------+------+----+-----+-----+----------------+-------+-----+--------+\n",
      "|          1|       0|     3|Braund, Mr. Owen ...|  male|22.0|    1|    0|       A/5 21171|   7.25| null|       S|\n",
      "|          2|       1|     1|Cumings, Mrs. Joh...|female|38.0|    1|    0|        PC 17599|71.2833|  C85|       C|\n",
      "|          3|       1|     3|Heikkinen, Miss. ...|female|26.0|    0|    0|STON/O2. 3101282|  7.925| null|       S|\n",
      "|          4|       1|     1|Futrelle, Mrs. Ja...|female|35.0|    1|    0|          113803|   53.1| C123|       S|\n",
      "|          5|       0|     3|Allen, Mr. Willia...|  male|35.0|    0|    0|          373450|   8.05| null|       S|\n",
      "+-----------+--------+------+--------------------+------+----+-----+-----+----------------+-------+-----+--------+\n",
      "only showing top 5 rows\n",
      "\n"
     ]
    }
   ],
   "source": [
    "data.show(5)"
   ]
  },
  {
   "cell_type": "markdown",
   "id": "a0808141",
   "metadata": {},
   "source": [
    "## Exploratory Data Analysis"
   ]
  },
  {
   "cell_type": "code",
   "execution_count": 6,
   "id": "76899ffb",
   "metadata": {},
   "outputs": [
    {
     "name": "stdout",
     "output_type": "stream",
     "text": [
      "root\n",
      " |-- PassengerId: integer (nullable = true)\n",
      " |-- Survived: integer (nullable = true)\n",
      " |-- Pclass: integer (nullable = true)\n",
      " |-- Name: string (nullable = true)\n",
      " |-- Sex: string (nullable = true)\n",
      " |-- Age: double (nullable = true)\n",
      " |-- SibSp: integer (nullable = true)\n",
      " |-- Parch: integer (nullable = true)\n",
      " |-- Ticket: string (nullable = true)\n",
      " |-- Fare: double (nullable = true)\n",
      " |-- Cabin: string (nullable = true)\n",
      " |-- Embarked: string (nullable = true)\n",
      "\n"
     ]
    }
   ],
   "source": [
    "data.printSchema()"
   ]
  },
  {
   "cell_type": "code",
   "execution_count": 7,
   "id": "25f4891f",
   "metadata": {},
   "outputs": [
    {
     "data": {
      "text/plain": [
       "['PassengerId',\n",
       " 'Survived',\n",
       " 'Pclass',\n",
       " 'Name',\n",
       " 'Sex',\n",
       " 'Age',\n",
       " 'SibSp',\n",
       " 'Parch',\n",
       " 'Ticket',\n",
       " 'Fare',\n",
       " 'Cabin',\n",
       " 'Embarked']"
      ]
     },
     "execution_count": 7,
     "metadata": {},
     "output_type": "execute_result"
    }
   ],
   "source": [
    "data.columns"
   ]
  },
  {
   "cell_type": "markdown",
   "id": "3573a79d",
   "metadata": {},
   "source": [
    "### Missing Values"
   ]
  },
  {
   "cell_type": "code",
   "execution_count": 8,
   "id": "369bb3cb",
   "metadata": {},
   "outputs": [],
   "source": [
    "from pyspark.sql.functions import isnan, when, count, col"
   ]
  },
  {
   "cell_type": "code",
   "execution_count": 9,
   "id": "6d5e6386",
   "metadata": {},
   "outputs": [
    {
     "name": "stdout",
     "output_type": "stream",
     "text": [
      "+-----------+--------+------+----+---+---+-----+-----+------+----+-----+--------+\n",
      "|PassengerId|Survived|Pclass|Name|Sex|Age|SibSp|Parch|Ticket|Fare|Cabin|Embarked|\n",
      "+-----------+--------+------+----+---+---+-----+-----+------+----+-----+--------+\n",
      "|          0|       0|     0|   0|  0|177|    0|    0|     0|   0|  687|       2|\n",
      "+-----------+--------+------+----+---+---+-----+-----+------+----+-----+--------+\n",
      "\n"
     ]
    }
   ],
   "source": [
    "data.select([count(when(isnan(c) | col(c).isNull(), c)).alias(c) for c in data.columns]).show()"
   ]
  },
  {
   "cell_type": "markdown",
   "id": "de37080b",
   "metadata": {},
   "source": [
    "### Shape of the dataset"
   ]
  },
  {
   "cell_type": "code",
   "execution_count": 10,
   "id": "6d10b3a5",
   "metadata": {},
   "outputs": [
    {
     "name": "stdout",
     "output_type": "stream",
     "text": [
      "(891, 12)\n"
     ]
    }
   ],
   "source": [
    "print((data.count(),len(data.columns)))"
   ]
  },
  {
   "cell_type": "markdown",
   "id": "495cba3f",
   "metadata": {},
   "source": [
    "## Data Preprocessing"
   ]
  },
  {
   "cell_type": "code",
   "execution_count": 11,
   "id": "384437dd",
   "metadata": {},
   "outputs": [],
   "source": [
    "#Selecting columns on which to work on\n",
    "my_cols = data.select(['Survived','Pclass','Sex','Age','SibSp','Parch','Fare','Embarked'])"
   ]
  },
  {
   "cell_type": "code",
   "execution_count": 12,
   "id": "a328f985",
   "metadata": {},
   "outputs": [
    {
     "name": "stdout",
     "output_type": "stream",
     "text": [
      "+--------+------+------+----+-----+-----+-------+--------+\n",
      "|Survived|Pclass|   Sex| Age|SibSp|Parch|   Fare|Embarked|\n",
      "+--------+------+------+----+-----+-----+-------+--------+\n",
      "|       0|     3|  male|22.0|    1|    0|   7.25|       S|\n",
      "|       1|     1|female|38.0|    1|    0|71.2833|       C|\n",
      "|       1|     3|female|26.0|    0|    0|  7.925|       S|\n",
      "|       1|     1|female|35.0|    1|    0|   53.1|       S|\n",
      "|       0|     3|  male|35.0|    0|    0|   8.05|       S|\n",
      "+--------+------+------+----+-----+-----+-------+--------+\n",
      "only showing top 5 rows\n",
      "\n"
     ]
    }
   ],
   "source": [
    "my_cols.show(5)"
   ]
  },
  {
   "cell_type": "markdown",
   "id": "0381f492",
   "metadata": {},
   "source": [
    "### Dropping records with missing values"
   ]
  },
  {
   "cell_type": "code",
   "execution_count": 13,
   "id": "122b0d10",
   "metadata": {},
   "outputs": [],
   "source": [
    "my_final_data = my_cols.na.drop()"
   ]
  },
  {
   "cell_type": "markdown",
   "id": "dbfcd20c",
   "metadata": {},
   "source": [
    "### Handling Categorical Values"
   ]
  },
  {
   "cell_type": "markdown",
   "id": "a4e34fc5",
   "metadata": {},
   "source": [
    "#### 1.Sex Column"
   ]
  },
  {
   "cell_type": "code",
   "execution_count": 14,
   "id": "84940867",
   "metadata": {},
   "outputs": [],
   "source": [
    "from pyspark.ml.feature import (VectorAssembler,VectorIndexer,\n",
    "                               OneHotEncoder,StringIndexer)"
   ]
  },
  {
   "cell_type": "code",
   "execution_count": 15,
   "id": "4d6c0c53",
   "metadata": {},
   "outputs": [],
   "source": [
    "#In StringIndexer we provide the inputCol i.e. Categorical Column and in output column we provide the name of our own\n",
    "#Normally ColumnName concatenated with 'Index'\n",
    "gender_indexer = StringIndexer(inputCol='Sex',outputCol='SexIndex')"
   ]
  },
  {
   "cell_type": "code",
   "execution_count": 16,
   "id": "c6f7b9b4",
   "metadata": {},
   "outputs": [],
   "source": [
    "#After StringIndexer, we use OneHotEncoding\n",
    "gender_encoder = OneHotEncoder(inputCol='SexIndex',outputCol='SexVec')"
   ]
  },
  {
   "cell_type": "markdown",
   "id": "45c882fa",
   "metadata": {},
   "source": [
    "#### 2.Embarked Column"
   ]
  },
  {
   "cell_type": "code",
   "execution_count": 17,
   "id": "9aae4a4a",
   "metadata": {},
   "outputs": [],
   "source": [
    "embarked_indexer = StringIndexer(inputCol='Embarked',outputCol='EmbarkedIndex')\n",
    "embarked_encoder = OneHotEncoder(inputCol='EmbarkedIndex',outputCol='EmbarkedVec')"
   ]
  },
  {
   "cell_type": "markdown",
   "id": "218f89e1",
   "metadata": {},
   "source": [
    "#### Applying Transformation on the data"
   ]
  },
  {
   "cell_type": "code",
   "execution_count": 32,
   "id": "cec1a170",
   "metadata": {},
   "outputs": [],
   "source": [
    "transformed_data = gender_indexer.fit(my_final_data).transform(my_final_data)\n",
    "transformed_data = gender_encoder.fit(transformed_data).transform(transformed_data)\n",
    "transformed_data = embarked_indexer.fit(transformed_data).transform(transformed_data)\n",
    "transformed_data = embarked_encoder.fit(transformed_data).transform(transformed_data)"
   ]
  },
  {
   "cell_type": "code",
   "execution_count": 33,
   "id": "49487ca4",
   "metadata": {},
   "outputs": [
    {
     "name": "stdout",
     "output_type": "stream",
     "text": [
      "+--------+------+------+----+-----+-----+-------+--------+--------+-------------+-------------+-------------+\n",
      "|Survived|Pclass|   Sex| Age|SibSp|Parch|   Fare|Embarked|SexIndex|       SexVec|EmbarkedIndex|  EmbarkedVec|\n",
      "+--------+------+------+----+-----+-----+-------+--------+--------+-------------+-------------+-------------+\n",
      "|       0|     3|  male|22.0|    1|    0|   7.25|       S|     0.0|(1,[0],[1.0])|          0.0|(2,[0],[1.0])|\n",
      "|       1|     1|female|38.0|    1|    0|71.2833|       C|     1.0|    (1,[],[])|          1.0|(2,[1],[1.0])|\n",
      "|       1|     3|female|26.0|    0|    0|  7.925|       S|     1.0|    (1,[],[])|          0.0|(2,[0],[1.0])|\n",
      "|       1|     1|female|35.0|    1|    0|   53.1|       S|     1.0|    (1,[],[])|          0.0|(2,[0],[1.0])|\n",
      "|       0|     3|  male|35.0|    0|    0|   8.05|       S|     0.0|(1,[0],[1.0])|          0.0|(2,[0],[1.0])|\n",
      "+--------+------+------+----+-----+-----+-------+--------+--------+-------------+-------------+-------------+\n",
      "only showing top 5 rows\n",
      "\n"
     ]
    }
   ],
   "source": [
    "transformed_data.show(5)"
   ]
  },
  {
   "cell_type": "code",
   "execution_count": 34,
   "id": "79b56d5a",
   "metadata": {},
   "outputs": [
    {
     "data": {
      "text/plain": [
       "['Survived',\n",
       " 'Pclass',\n",
       " 'Sex',\n",
       " 'Age',\n",
       " 'SibSp',\n",
       " 'Parch',\n",
       " 'Fare',\n",
       " 'Embarked',\n",
       " 'SexIndex',\n",
       " 'SexVec',\n",
       " 'EmbarkedIndex',\n",
       " 'EmbarkedVec']"
      ]
     },
     "execution_count": 34,
     "metadata": {},
     "output_type": "execute_result"
    }
   ],
   "source": [
    "transformed_data.columns"
   ]
  },
  {
   "cell_type": "markdown",
   "id": "ff09e8c9",
   "metadata": {},
   "source": [
    "#### Transforming data for Spark"
   ]
  },
  {
   "cell_type": "code",
   "execution_count": 35,
   "id": "cfe5144d",
   "metadata": {},
   "outputs": [],
   "source": [
    "#Helps in creation of 2 columns\n",
    "assembler = VectorAssembler(inputCols=['Pclass','Age','SibSp','Parch','Fare','SexVec','EmbarkedVec'],\n",
    "                           outputCol='features')"
   ]
  },
  {
   "cell_type": "code",
   "execution_count": 36,
   "id": "1c18429b",
   "metadata": {},
   "outputs": [],
   "source": [
    "output = assembler.transform(transformed_data)"
   ]
  },
  {
   "cell_type": "code",
   "execution_count": 38,
   "id": "e3289289",
   "metadata": {},
   "outputs": [
    {
     "name": "stdout",
     "output_type": "stream",
     "text": [
      "+--------+------+------+----+-----+-----+-------+--------+--------+-------------+-------------+-------------+--------------------+\n",
      "|Survived|Pclass|   Sex| Age|SibSp|Parch|   Fare|Embarked|SexIndex|       SexVec|EmbarkedIndex|  EmbarkedVec|            features|\n",
      "+--------+------+------+----+-----+-----+-------+--------+--------+-------------+-------------+-------------+--------------------+\n",
      "|       0|     3|  male|22.0|    1|    0|   7.25|       S|     0.0|(1,[0],[1.0])|          0.0|(2,[0],[1.0])|[3.0,22.0,1.0,0.0...|\n",
      "|       1|     1|female|38.0|    1|    0|71.2833|       C|     1.0|    (1,[],[])|          1.0|(2,[1],[1.0])|[1.0,38.0,1.0,0.0...|\n",
      "+--------+------+------+----+-----+-----+-------+--------+--------+-------------+-------------+-------------+--------------------+\n",
      "only showing top 2 rows\n",
      "\n"
     ]
    }
   ],
   "source": [
    "output.show(2)"
   ]
  },
  {
   "cell_type": "code",
   "execution_count": 40,
   "id": "1d522e79",
   "metadata": {},
   "outputs": [
    {
     "name": "stdout",
     "output_type": "stream",
     "text": [
      "+--------------------+--------+\n",
      "|            features|Survived|\n",
      "+--------------------+--------+\n",
      "|[3.0,22.0,1.0,0.0...|       0|\n",
      "|[1.0,38.0,1.0,0.0...|       1|\n",
      "|(8,[0,1,4,6],[3.0...|       1|\n",
      "|[1.0,35.0,1.0,0.0...|       1|\n",
      "|[3.0,35.0,0.0,0.0...|       0|\n",
      "+--------------------+--------+\n",
      "only showing top 5 rows\n",
      "\n"
     ]
    }
   ],
   "source": [
    "output.select(['features','Survived']).show(5)"
   ]
  },
  {
   "cell_type": "code",
   "execution_count": 42,
   "id": "4eacf069",
   "metadata": {},
   "outputs": [],
   "source": [
    "final_data = output.select(['features','Survived'])"
   ]
  },
  {
   "cell_type": "code",
   "execution_count": 43,
   "id": "da75c278",
   "metadata": {},
   "outputs": [
    {
     "name": "stdout",
     "output_type": "stream",
     "text": [
      "+--------------------+--------+\n",
      "|            features|Survived|\n",
      "+--------------------+--------+\n",
      "|[3.0,22.0,1.0,0.0...|       0|\n",
      "|[1.0,38.0,1.0,0.0...|       1|\n",
      "|(8,[0,1,4,6],[3.0...|       1|\n",
      "|[1.0,35.0,1.0,0.0...|       1|\n",
      "|[3.0,35.0,0.0,0.0...|       0|\n",
      "+--------------------+--------+\n",
      "only showing top 5 rows\n",
      "\n"
     ]
    }
   ],
   "source": [
    "final_data.show(5)"
   ]
  },
  {
   "cell_type": "markdown",
   "id": "3161afe9",
   "metadata": {},
   "source": [
    "## Model Building"
   ]
  },
  {
   "cell_type": "markdown",
   "id": "3e8ea7c3",
   "metadata": {},
   "source": [
    "#### Train Test Split"
   ]
  },
  {
   "cell_type": "code",
   "execution_count": 44,
   "id": "b24884d2",
   "metadata": {},
   "outputs": [],
   "source": [
    "train_data , test_data = final_data.randomSplit([0.7,0.3],seed=101)"
   ]
  },
  {
   "cell_type": "markdown",
   "id": "d4e9cb81",
   "metadata": {},
   "source": [
    "#### Logistic Regression Model`"
   ]
  },
  {
   "cell_type": "code",
   "execution_count": 45,
   "id": "206633fc",
   "metadata": {},
   "outputs": [],
   "source": [
    "from pyspark.ml.classification import LogisticRegression"
   ]
  },
  {
   "cell_type": "code",
   "execution_count": 46,
   "id": "bbd2da90",
   "metadata": {},
   "outputs": [],
   "source": [
    "log_reg = LogisticRegression(labelCol='Survived')"
   ]
  },
  {
   "cell_type": "code",
   "execution_count": 48,
   "id": "99ad9580",
   "metadata": {},
   "outputs": [],
   "source": [
    "log_reg_model = log_reg.fit(train_data)"
   ]
  },
  {
   "cell_type": "markdown",
   "id": "164385a1",
   "metadata": {},
   "source": [
    "### Alternative Method (use Pipelines)"
   ]
  },
  {
   "cell_type": "code",
   "execution_count": null,
   "id": "ae07fb19",
   "metadata": {},
   "outputs": [],
   "source": [
    "# from pyspark.ml import Pipeline\n",
    "\n",
    "# log_reg_titanic = LogisticRegression(featuresCol='features',labelCol='Survived')\n",
    "\n",
    "# pipeline = Pipeline(stages=[gender_indexer,embark_indexer,\n",
    "#                            gender_encoder,embark_encoder,\n",
    "#                            assembler,log_reg_titanic])\n",
    "\n",
    "# train_titanic_data, test_titanic_data = my_final_data.randomSplit([0.7,.3])\n",
    "\n",
    "# fit_model = pipeline.fit(train_titanic_data)\n",
    "\n",
    "# results = fit_model.transform(test_titanic_data)"
   ]
  },
  {
   "cell_type": "markdown",
   "id": "8dec9572",
   "metadata": {},
   "source": [
    "### Evaluation Metrics"
   ]
  },
  {
   "cell_type": "code",
   "execution_count": 53,
   "id": "f252446e",
   "metadata": {},
   "outputs": [],
   "source": [
    "#Binary Classification Evaluator\n",
    "from pyspark.ml.evaluation import BinaryClassificationEvaluator"
   ]
  },
  {
   "cell_type": "code",
   "execution_count": 54,
   "id": "05f5e8b1",
   "metadata": {},
   "outputs": [],
   "source": [
    "#Evaluating test_data\n",
    "test_results = log_reg_model.evaluate(test_data)"
   ]
  },
  {
   "cell_type": "code",
   "execution_count": 56,
   "id": "87148124",
   "metadata": {},
   "outputs": [
    {
     "name": "stdout",
     "output_type": "stream",
     "text": [
      "+--------------------+--------+--------------------+--------------------+----------+\n",
      "|            features|Survived|       rawPrediction|         probability|prediction|\n",
      "+--------------------+--------+--------------------+--------------------+----------+\n",
      "|(8,[0,1,4],[3.0,1...|       1|[-0.0739543882715...|[0.48151982489163...|       1.0|\n",
      "|(8,[0,1,4],[3.0,1...|       1|[-0.0739898447385...|[0.48151097288967...|       1.0|\n",
      "|(8,[0,1,4,5],[3.0...|       0|[3.02489521683134...|[0.95368622222345...|       0.0|\n",
      "|(8,[0,1,4,5],[3.0...|       1|[3.18076142297133...|[0.96010384215865...|       0.0|\n",
      "|(8,[0,1,4,5],[3.0...|       0|[3.62892742909344...|[0.97414175758540...|       0.0|\n",
      "+--------------------+--------+--------------------+--------------------+----------+\n",
      "only showing top 5 rows\n",
      "\n"
     ]
    }
   ],
   "source": [
    "test_results.predictions.show(5)"
   ]
  },
  {
   "cell_type": "code",
   "execution_count": 57,
   "id": "a819cc38",
   "metadata": {},
   "outputs": [],
   "source": [
    "#Creating instance of BinaryClassificationEvaluator\n",
    "survived_eval = BinaryClassificationEvaluator(rawPredictionCol='prediction',\n",
    "                                             labelCol='Survived')"
   ]
  },
  {
   "cell_type": "code",
   "execution_count": 60,
   "id": "476711ea",
   "metadata": {},
   "outputs": [
    {
     "data": {
      "text/plain": [
       "0.787080459770115"
      ]
     },
     "execution_count": 60,
     "metadata": {},
     "output_type": "execute_result"
    }
   ],
   "source": [
    "auc = survived_eval.evaluate(test_results.predictions)\n",
    "auc"
   ]
  },
  {
   "cell_type": "code",
   "execution_count": 52,
   "id": "cb294d20",
   "metadata": {},
   "outputs": [
    {
     "data": {
      "text/plain": [
       "0.8066037735849056"
      ]
     },
     "execution_count": 52,
     "metadata": {},
     "output_type": "execute_result"
    }
   ],
   "source": [
    "test_results.accuracy"
   ]
  },
  {
   "cell_type": "code",
   "execution_count": 61,
   "id": "4ae8b110",
   "metadata": {},
   "outputs": [
    {
     "data": {
      "text/plain": [
       "0.8596781609195401"
      ]
     },
     "execution_count": 61,
     "metadata": {},
     "output_type": "execute_result"
    }
   ],
   "source": [
    "test_results.areaUnderROC"
   ]
  },
  {
   "cell_type": "markdown",
   "id": "48635e53",
   "metadata": {},
   "source": [
    "#### Categorising Actual Label and Predicted Label"
   ]
  },
  {
   "cell_type": "code",
   "execution_count": 64,
   "id": "9b8d8767",
   "metadata": {},
   "outputs": [],
   "source": [
    "y_true = test_results.predictions.select(['Survived']).collect()\n",
    "y_pred = test_results.predictions.select(['prediction']).collect()"
   ]
  },
  {
   "cell_type": "code",
   "execution_count": 65,
   "id": "444f5056",
   "metadata": {},
   "outputs": [],
   "source": [
    "from sklearn.metrics import classification_report, confusion_matrix"
   ]
  },
  {
   "cell_type": "code",
   "execution_count": 66,
   "id": "65fe1a8f",
   "metadata": {},
   "outputs": [
    {
     "name": "stdout",
     "output_type": "stream",
     "text": [
      "              precision    recall  f1-score   support\n",
      "\n",
      "           0       0.80      0.90      0.85       125\n",
      "           1       0.82      0.68      0.74        87\n",
      "\n",
      "    accuracy                           0.81       212\n",
      "   macro avg       0.81      0.79      0.79       212\n",
      "weighted avg       0.81      0.81      0.80       212\n",
      "\n"
     ]
    }
   ],
   "source": [
    "#Classification Report\n",
    "print(classification_report(y_true, y_pred))"
   ]
  },
  {
   "cell_type": "code",
   "execution_count": 67,
   "id": "7320a865",
   "metadata": {},
   "outputs": [
    {
     "name": "stdout",
     "output_type": "stream",
     "text": [
      "[[112  13]\n",
      " [ 28  59]]\n"
     ]
    }
   ],
   "source": [
    "#Confusion Matrix\n",
    "print(confusion_matrix(y_true, y_pred))"
   ]
  }
 ],
 "metadata": {
  "kernelspec": {
   "display_name": "Python 3",
   "language": "python",
   "name": "python3"
  },
  "language_info": {
   "codemirror_mode": {
    "name": "ipython",
    "version": 3
   },
   "file_extension": ".py",
   "mimetype": "text/x-python",
   "name": "python",
   "nbconvert_exporter": "python",
   "pygments_lexer": "ipython3",
   "version": "3.8.8"
  }
 },
 "nbformat": 4,
 "nbformat_minor": 5
}
